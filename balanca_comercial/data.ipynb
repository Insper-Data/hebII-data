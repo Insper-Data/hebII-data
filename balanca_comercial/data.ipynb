{
 "cells": [
  {
   "cell_type": "code",
   "execution_count": 80,
   "metadata": {},
   "outputs": [],
   "source": [
    "import pandas as pd"
   ]
  },
  {
   "cell_type": "code",
   "execution_count": 81,
   "metadata": {},
   "outputs": [],
   "source": [
    "df_import = pd.read_csv(\"import.csv\")\n",
    "df_export = pd.read_csv(\"export.csv\", sep = \";\", decimal = \",\")\n",
    "deflator = pd.read_csv(\"deflator.csv\")\n"
   ]
  },
  {
   "cell_type": "code",
   "execution_count": 82,
   "metadata": {},
   "outputs": [],
   "source": [
    "deflator = deflator.rename({\"DATE\": \"data\", deflator.columns[1]: \"deflator\"}, axis = 1).assign(data = lambda _: _.data.str[0:4].astype(int))\n",
    "df = pd.merge(\n",
    "    df_import.rename({\"Data\": \"data\", df_import.columns[1]: \"importacao\"}, axis = 1).filter([\"data\", \"importacao\"]),\n",
    "    df_export.rename({\"Data\": \"data\", df_export.columns[1]: \"exportacao\"}, axis = 1).filter([\"data\", \"exportacao\"]),\n",
    "    how = \"outer\"\n",
    ").assign(saldo = lambda _: _.exportacao - _.importacao)"
   ]
  },
  {
   "cell_type": "code",
   "execution_count": 83,
   "metadata": {},
   "outputs": [],
   "source": [
    "df = df.merge(deflator, how = \"inner\").assign(\n",
    "    importacao = lambda _: _.importacao / _.deflator,\n",
    "    exportacao = lambda _: _.exportacao / _.deflator,\n",
    "    saldo = lambda _: _.saldo / _.deflator\n",
    ")"
   ]
  },
  {
   "cell_type": "code",
   "execution_count": 74,
   "metadata": {},
   "outputs": [],
   "source": [
    "df.to_csv(\"saldo_deflacionado.csv\", index = False)"
   ]
  }
 ],
 "metadata": {
  "kernelspec": {
   "display_name": "base",
   "language": "python",
   "name": "python3"
  },
  "language_info": {
   "codemirror_mode": {
    "name": "ipython",
    "version": 3
   },
   "file_extension": ".py",
   "mimetype": "text/x-python",
   "name": "python",
   "nbconvert_exporter": "python",
   "pygments_lexer": "ipython3",
   "version": "3.9.12"
  },
  "orig_nbformat": 4
 },
 "nbformat": 4,
 "nbformat_minor": 2
}
